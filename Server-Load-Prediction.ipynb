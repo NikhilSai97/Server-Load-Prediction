{
 "cells": [
  {
   "cell_type": "markdown",
   "metadata": {},
   "source": [
    "## Import Libraries"
   ]
  },
  {
   "cell_type": "code",
   "execution_count": null,
   "metadata": {
    "_cell_guid": "79c7e3d0-c299-4dcb-8224-4455121ee9b0",
    "_uuid": "d629ff2d2480ee46fbb7e2d37f6b5fab8052498a"
   },
   "outputs": [],
   "source": [
    "import numpy as np\n",
    "import pandas as pd\n",
    "import matplotlib.pyplot as plt\n",
    "from collections import Counter\n",
    "import seaborn as sns\n",
    "from sklearn.experimental import enable_hist_gradient_boosting\n",
    "from sklearn.ensemble import HistGradientBoostingClassifier\n",
    "from sklearn.ensemble import ExtraTreesClassifier, RandomForestClassifier\n",
    "from sklearn import model_selection\n",
    "from sklearn.feature_selection import SelectFromModel\n",
    "from sklearn.model_selection import train_test_split, cross_val_score\n",
    "from sklearn.metrics import classification_report,confusion_matrix, accuracy_score, log_loss\n",
    "from sklearn.preprocessing import OneHotEncoder\n",
    "pd.set_option('display.max_columns', None)"
   ]
  },
  {
   "cell_type": "markdown",
   "metadata": {},
   "source": [
    "## Read/Load Data"
   ]
  },
  {
   "cell_type": "code",
   "execution_count": null,
   "metadata": {},
   "outputs": [],
   "source": [
    "data = pd.read_csv('train_project/train.csv')"
   ]
  },
  {
   "cell_type": "code",
   "execution_count": null,
   "metadata": {},
   "outputs": [],
   "source": [
    "test = pd.read_csv('train_project/test.csv')\n",
    "test_data = test.drop(columns=['id'],axis=1)"
   ]
  },
  {
   "cell_type": "code",
   "execution_count": null,
   "metadata": {},
   "outputs": [],
   "source": [
    "data.head()"
   ]
  },
  {
   "cell_type": "markdown",
   "metadata": {},
   "source": [
    "## Exploratory Data Analysis"
   ]
  },
  {
   "cell_type": "code",
   "execution_count": null,
   "metadata": {},
   "outputs": [],
   "source": [
    "counter = Counter(data['cpu_load'])\n",
    "for k,v in counter.items():\n",
    "    per = v / len(data['cpu_load']) * 100\n",
    "    print(f'Load {k}, Count: {v} ({round(per,2)} %)')\n",
    "# plot the distribution\n",
    "plt.bar(counter.keys(), counter.values())\n",
    "plt.title('Distribution of Load types')\n",
    "plt.show()"
   ]
  },
  {
   "cell_type": "code",
   "execution_count": null,
   "metadata": {},
   "outputs": [],
   "source": [
    "sns.catplot(x=\"cpu_load\", y=\"syst_direct_ipo_rate\", data=data)"
   ]
  },
  {
   "cell_type": "code",
   "execution_count": null,
   "metadata": {},
   "outputs": [],
   "source": [
    "sns.catplot(x=\"cpu_load\", y=\"syst_process_count\", data=data)"
   ]
  },
  {
   "cell_type": "code",
   "execution_count": null,
   "metadata": {},
   "outputs": [],
   "source": [
    "sns.catplot(x=\"cpu_load\", y=\"page_global_valid_fault_rate\", data=data)"
   ]
  },
  {
   "cell_type": "code",
   "execution_count": null,
   "metadata": {},
   "outputs": [],
   "source": [
    "sns.catplot(x=\"cpu_load\", y=\"ewc0_pkts_recvpsec\", data=data)"
   ]
  },
  {
   "cell_type": "code",
   "execution_count": null,
   "metadata": {},
   "outputs": [],
   "source": [
    "sns.catplot(x=\"cpu_load\", y=\"lla0_pkts_recvpsec\", data=data)"
   ]
  },
  {
   "cell_type": "markdown",
   "metadata": {},
   "source": [
    "## Pre processing"
   ]
  },
  {
   "cell_type": "code",
   "execution_count": null,
   "metadata": {},
   "outputs": [],
   "source": [
    "def cat_encoder(X,column_name):\n",
    "    cat = X[[column_name]]\n",
    "    cat_encoder = OneHotEncoder(sparse=False)\n",
    "    cat_1hot = cat_encoder.fit_transform(cat)\n",
    "    for i in range(cat_1hot.shape[1]):\n",
    "        X[cat_encoder.categories_[0][i]] = cat_1hot[:,i]\n",
    "    X = X.drop(columns=[column_name],axis=1)\n",
    "    return X"
   ]
  },
  {
   "cell_type": "code",
   "execution_count": null,
   "metadata": {},
   "outputs": [],
   "source": [
    "X = data.drop(columns=['cpu_load'],axis=1)\n",
    "y = data['cpu_load']"
   ]
  },
  {
   "cell_type": "code",
   "execution_count": null,
   "metadata": {},
   "outputs": [],
   "source": [
    "X = cat_encoder(X,'m_id')\n",
    "X = X.drop(columns=['a','b','c','d','e','g'],axis=1)"
   ]
  },
  {
   "cell_type": "markdown",
   "metadata": {},
   "source": [
    "## Model Building"
   ]
  },
  {
   "cell_type": "code",
   "execution_count": null,
   "metadata": {},
   "outputs": [],
   "source": [
    "X_train, X_test, y_train, y_test = train_test_split(X, y, test_size=0.2,stratify=y)"
   ]
  },
  {
   "cell_type": "code",
   "execution_count": null,
   "metadata": {},
   "outputs": [],
   "source": [
    "clf = HistGradientBoostingClassifier(loss='categorical_crossentropy',max_iter=170,l2_regularization=1,early_stopping=False)\n",
    "clf.fit(X_train, y_train)\n",
    "cross_hgbc = cross_val_score(clf, X, y, cv=5,scoring='neg_log_loss')\n",
    "print(cross_hgbc.mean())"
   ]
  },
  {
   "cell_type": "code",
   "execution_count": null,
   "metadata": {},
   "outputs": [],
   "source": [
    "# Making predictions\n",
    "predictions = clf.predict(X_test)\n",
    "print(classification_report(y_test,predictions))\n",
    "print(confusion_matrix(y_test,predictions))"
   ]
  },
  {
   "cell_type": "code",
   "execution_count": null,
   "metadata": {},
   "outputs": [],
   "source": [
    "clf = HistGradientBoostingClassifier(loss='categorical_crossentropy',max_iter=170,l2_regularization=1,early_stopping=False)\n",
    "clf.fit(X, y)"
   ]
  },
  {
   "cell_type": "code",
   "execution_count": null,
   "metadata": {},
   "outputs": [],
   "source": [
    "test_data = cat_encoder(test_data,'m_id')\n",
    "test_data = test_data.drop(columns=['a','b','c','d','e','g'],axis=1)\n",
    "predictions = clf.predict_proba(test_data)"
   ]
  },
  {
   "cell_type": "code",
   "execution_count": null,
   "metadata": {},
   "outputs": [],
   "source": [
    "def save_results(x_test,predictions,file_name):\n",
    "    data_demo = pd.read_csv('train_project/sample_submission.csv')\n",
    "    data_demo['id'] = x_test['id']\n",
    "    data_demo['low'] = predictions[:,1]\n",
    "    data_demo['medium'] = predictions[:,2]\n",
    "    data_demo['high'] = predictions[:,0]\n",
    "    data_demo.to_csv(f'solution_{file_name}.csv',index=False)"
   ]
  },
  {
   "cell_type": "code",
   "execution_count": null,
   "metadata": {},
   "outputs": [],
   "source": [
    "save_results(test,predictions,'add_h_l_m')"
   ]
  },
  {
   "cell_type": "markdown",
   "metadata": {},
   "source": [
    "## Tried Approaches"
   ]
  },
  {
   "cell_type": "markdown",
   "metadata": {},
   "source": [
    "### Eliminate highly correlated features(>0.85)\n",
    "### Find important features using tree based algorithms\n",
    "### Feature selection using SelectKBest()\n",
    "### Tried Recursive Feature Elimination, But its taking very long to give important features\n",
    "### Build very intuite model(with 8 features) and acheived 90% accuracy\n",
    "### Tried to derive new variables, but unable to understand some of the variables.\n",
    "### Tried to remove outliers, but unable to increase accuracy\n",
    "### Tried Decision Tree, ExtraTree Classifier, Random Forest, Gradient Boosting Classifier, SGDClassifier, MLP, Stacking classifier, Voting classifier\n",
    "### Used confidently(probabliity > 0.99) predicted data points from test data to train the model along with train data and log loss reduced by 0.003."
   ]
  }
 ],
 "metadata": {
  "kernelspec": {
   "display_name": "Python 3",
   "language": "python",
   "name": "python3"
  },
  "language_info": {
   "codemirror_mode": {
    "name": "ipython",
    "version": 3
   },
   "file_extension": ".py",
   "mimetype": "text/x-python",
   "name": "python",
   "nbconvert_exporter": "python",
   "pygments_lexer": "ipython3",
   "version": "3.8.3"
  }
 },
 "nbformat": 4,
 "nbformat_minor": 4
}
